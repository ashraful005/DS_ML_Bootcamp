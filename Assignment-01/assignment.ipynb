{
 "cells": [
  {
   "cell_type": "code",
   "execution_count": 1,
   "id": "344dd45c",
   "metadata": {},
   "outputs": [
    {
     "name": "stdout",
     "output_type": "stream",
     "text": [
      "Please provide Radius\n",
      "2\n",
      "Area:  12.5664\n"
     ]
    }
   ],
   "source": [
    "# Area of circle\n",
    "def area_of_circle(r):\n",
    "    pi=3.1416\n",
    "    return pi*r*r\n",
    "\n",
    "# Apply in the Main function\n",
    "print(\"Please provide Radius\")\n",
    "radius = float(input())\n",
    "area = area_of_circle(radius)\n",
    "\n",
    "print(\"Area: \", area)"
   ]
  },
  {
   "cell_type": "code",
   "execution_count": 3,
   "id": "9d8410bd",
   "metadata": {},
   "outputs": [
    {
     "name": "stdout",
     "output_type": "stream",
     "text": [
      "26\n"
     ]
    }
   ],
   "source": [
    "#largest number\n",
    "def largest(a,b,c):\n",
    "    if a>b:\n",
    "        if a>c:\n",
    "            return a\n",
    "        else:\n",
    "            return c\n",
    "    else:\n",
    "        if b>c:\n",
    "            return b\n",
    "        else:\n",
    "            return c\n",
    "\n",
    "        \n",
    "largest_num = largest(12,8,26)\n",
    "print(largest_num)"
   ]
  },
  {
   "cell_type": "code",
   "execution_count": 11,
   "id": "6394e406",
   "metadata": {},
   "outputs": [
    {
     "name": "stdout",
     "output_type": "stream",
     "text": [
      "abcde\n",
      " 10001\n"
     ]
    }
   ],
   "source": [
    "#string conversion\n",
    "def convert(vowels):\n",
    "    a=\" \"\n",
    "    for chr in vowels:\n",
    "        if chr=='a' or chr=='e' or chr=='i' or chr=='o' or chr=='u':\n",
    "            a+='1'\n",
    "        else:\n",
    "            a+='0'\n",
    "    return a\n",
    "str = input()\n",
    "converted = convert(str)\n",
    "print(converted)"
   ]
  },
  {
   "cell_type": "code",
   "execution_count": 15,
   "id": "1f3a99c1",
   "metadata": {},
   "outputs": [
    {
     "name": "stdout",
     "output_type": "stream",
     "text": [
      "a:12\n",
      "b:16\n",
      "a+b =  28\n",
      "a-b =  -4\n",
      "a*b =  192\n",
      "a/b =  0.75\n"
     ]
    }
   ],
   "source": [
    "#calculator\n",
    "def add(a,b):\n",
    "    print(\"a+b = \", a+b)\n",
    "def sub(a,b):\n",
    "    print(\"a-b = \", a-b)\n",
    "def mul(a,b):\n",
    "    print(\"a*b = \", a*b)\n",
    "def div(a,b):\n",
    "    print(\"a/b = \", a/b)\n",
    "\n",
    "def calc(a,b):\n",
    "    add(a,b)\n",
    "    sub(a,b)\n",
    "    mul(a,b)\n",
    "    div(a,b)\n",
    "    \n",
    "a=int(input(\"a:\"))\n",
    "b=int(input(\"b:\"))\n",
    "calc(a,b)"
   ]
  },
  {
   "cell_type": "code",
   "execution_count": null,
   "id": "aef5bdd8",
   "metadata": {},
   "outputs": [],
   "source": []
  }
 ],
 "metadata": {
  "kernelspec": {
   "display_name": "Python 3 (ipykernel)",
   "language": "python",
   "name": "python3"
  },
  "language_info": {
   "codemirror_mode": {
    "name": "ipython",
    "version": 3
   },
   "file_extension": ".py",
   "mimetype": "text/x-python",
   "name": "python",
   "nbconvert_exporter": "python",
   "pygments_lexer": "ipython3",
   "version": "3.9.13"
  }
 },
 "nbformat": 4,
 "nbformat_minor": 5
}
