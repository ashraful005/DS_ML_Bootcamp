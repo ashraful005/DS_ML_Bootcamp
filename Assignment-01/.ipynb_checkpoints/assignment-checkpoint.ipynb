{
 "cells": [
  {
   "cell_type": "code",
   "execution_count": 2,
   "id": "457d0c67",
   "metadata": {},
   "outputs": [
    {
     "name": "stdout",
     "output_type": "stream",
     "text": [
      "Please provide Width and Height\n",
      "2\n",
      "Area:  12.5664\n"
     ]
    }
   ],
   "source": [
    "# Area of circle\n",
    "def area_of_circle(r):\n",
    "    pi=3.1416\n",
    "    return pi*r*r\n",
    "\n",
    "# Apply in the Main function\n",
    "print(\"Please provide Width and Height\")\n",
    "radius = float(input())\n",
    "area = area_of_circle(radius)\n",
    "\n",
    "print(\"Area: \", area)"
   ]
  },
  {
   "cell_type": "code",
   "execution_count": null,
   "id": "ed38efb5",
   "metadata": {},
   "outputs": [],
   "source": []
  }
 ],
 "metadata": {
  "kernelspec": {
   "display_name": "Python 3 (ipykernel)",
   "language": "python",
   "name": "python3"
  },
  "language_info": {
   "codemirror_mode": {
    "name": "ipython",
    "version": 3
   },
   "file_extension": ".py",
   "mimetype": "text/x-python",
   "name": "python",
   "nbconvert_exporter": "python",
   "pygments_lexer": "ipython3",
   "version": "3.9.13"
  }
 },
 "nbformat": 4,
 "nbformat_minor": 5
}
