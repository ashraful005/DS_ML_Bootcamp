{
 "cells": [
  {
   "cell_type": "markdown",
   "id": "3581a950",
   "metadata": {},
   "source": [
    "# Taking array input"
   ]
  },
  {
   "cell_type": "code",
   "execution_count": 1,
   "id": "78468a00",
   "metadata": {},
   "outputs": [
    {
     "name": "stdout",
     "output_type": "stream",
     "text": [
      "Array size:5\n",
      "1\n",
      "2\n",
      "3\n",
      "4\n",
      "5\n",
      "[1, 2, 3, 4, 5]\n"
     ]
    }
   ],
   "source": [
    "#method-01\n",
    "lst1=[]\n",
    "n=int(input(\"Array size:\"))\n",
    "for i in range(n):\n",
    "    element=int(input())\n",
    "    lst1.append(element)\n",
    "print(lst1)"
   ]
  },
  {
   "cell_type": "code",
   "execution_count": 2,
   "id": "2e22ab1d",
   "metadata": {},
   "outputs": [
    {
     "name": "stdout",
     "output_type": "stream",
     "text": [
      "1 2 3 4 5\n",
      "[1, 2, 3, 4, 5]\n"
     ]
    }
   ],
   "source": [
    "#method-02\n",
    "lst2 = list(map(int, input().strip().split()))\n",
    "print(lst2)"
   ]
  },
  {
   "cell_type": "code",
   "execution_count": 3,
   "id": "ceda5b2d",
   "metadata": {},
   "outputs": [
    {
     "name": "stdout",
     "output_type": "stream",
     "text": [
      "1 3 5 7 9\n",
      "[1, 3, 5, 7, 9]\n"
     ]
    }
   ],
   "source": [
    "#method-03\n",
    "def lin():\n",
    "    return list(map(int, input().strip().split()))\n",
    "a=lin()\n",
    "print(a)"
   ]
  },
  {
   "cell_type": "markdown",
   "id": "fcde448b",
   "metadata": {},
   "source": [
    "# List comprehension"
   ]
  },
  {
   "cell_type": "code",
   "execution_count": 5,
   "id": "1a41fdf8",
   "metadata": {},
   "outputs": [
    {
     "name": "stdout",
     "output_type": "stream",
     "text": [
      "2\n",
      "4\n",
      "6\n"
     ]
    }
   ],
   "source": [
    "arr = [1,2,3,4,5,6,7,9]\n",
    "for i in arr:\n",
    "    if i%2 == 0:\n",
    "        print(i)"
   ]
  },
  {
   "cell_type": "code",
   "execution_count": 6,
   "id": "6ff4abd2",
   "metadata": {},
   "outputs": [
    {
     "data": {
      "text/plain": [
       "[2, 4, 6]"
      ]
     },
     "execution_count": 6,
     "metadata": {},
     "output_type": "execute_result"
    }
   ],
   "source": [
    "#shortcut\n",
    "lst=[out for out in arr if out%2==0]\n",
    "lst"
   ]
  },
  {
   "cell_type": "markdown",
   "id": "35d3add8",
   "metadata": {},
   "source": [
    "# Dictionary Comprehension"
   ]
  },
  {
   "cell_type": "code",
   "execution_count": 8,
   "id": "d4f3d898",
   "metadata": {},
   "outputs": [
    {
     "data": {
      "text/plain": [
       "{'name': 'Code Studio', 'age': 3}"
      ]
     },
     "execution_count": 8,
     "metadata": {},
     "output_type": "execute_result"
    }
   ],
   "source": [
    "index = ['name', 'age']\n",
    "data = ['Code Studio', 3]\n",
    "dictn = {i:d for i,d in zip(index, data)}\n",
    "dictn"
   ]
  },
  {
   "cell_type": "markdown",
   "id": "50987ef3",
   "metadata": {},
   "source": [
    "# File Handling"
   ]
  },
  {
   "cell_type": "code",
   "execution_count": 2,
   "id": "9a85585e",
   "metadata": {},
   "outputs": [
    {
     "name": "stdout",
     "output_type": "stream",
     "text": [
      "We want to learn Advance Machine Learning \n"
     ]
    }
   ],
   "source": [
    "#read mode\n",
    "file = open(\"demo.txt\",'r')\n",
    "content = file.read()\n",
    "print(content)\n",
    "file.close()"
   ]
  },
  {
   "cell_type": "code",
   "execution_count": 5,
   "id": "7b5698d9",
   "metadata": {},
   "outputs": [],
   "source": [
    "#append mode\n",
    "file = open(\"demo.txt\",'a')\n",
    "file.write('\\nMachine Learning')\n",
    "file.close()"
   ]
  },
  {
   "cell_type": "code",
   "execution_count": 6,
   "id": "ab1fe495",
   "metadata": {},
   "outputs": [
    {
     "name": "stdout",
     "output_type": "stream",
     "text": [
      "We want to learn Advance Machine Learning \n",
      "Machine Learning\n"
     ]
    }
   ],
   "source": [
    "file = open(\"demo.txt\",'r')\n",
    "content = file.read()\n",
    "print(content)\n",
    "file.close()"
   ]
  },
  {
   "cell_type": "code",
   "execution_count": 7,
   "id": "fe1ef98d",
   "metadata": {},
   "outputs": [
    {
     "name": "stdout",
     "output_type": "stream",
     "text": [
      "We want \n"
     ]
    }
   ],
   "source": [
    "file = open(\"demo.txt\",'r')\n",
    "content = file.read(8)\n",
    "print(content)\n",
    "file.close()"
   ]
  },
  {
   "cell_type": "code",
   "execution_count": 10,
   "id": "9967db42",
   "metadata": {},
   "outputs": [
    {
     "name": "stdout",
     "output_type": "stream",
     "text": [
      "We want to learn Advance Machine Learning \n",
      "Machine Learning\n"
     ]
    }
   ],
   "source": [
    "#auto close files\n",
    "with open(\"demo.txt\",'r') as file:\n",
    "    content = file.read()\n",
    "    print(content)"
   ]
  },
  {
   "cell_type": "code",
   "execution_count": null,
   "id": "0ba4f140",
   "metadata": {},
   "outputs": [],
   "source": []
  }
 ],
 "metadata": {
  "kernelspec": {
   "display_name": "Python 3 (ipykernel)",
   "language": "python",
   "name": "python3"
  },
  "language_info": {
   "codemirror_mode": {
    "name": "ipython",
    "version": 3
   },
   "file_extension": ".py",
   "mimetype": "text/x-python",
   "name": "python",
   "nbconvert_exporter": "python",
   "pygments_lexer": "ipython3",
   "version": "3.9.13"
  }
 },
 "nbformat": 4,
 "nbformat_minor": 5
}
