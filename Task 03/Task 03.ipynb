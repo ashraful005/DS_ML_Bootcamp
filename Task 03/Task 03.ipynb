{
 "cells": [
  {
   "cell_type": "markdown",
   "id": "c814d3c2",
   "metadata": {},
   "source": [
    "#  1"
   ]
  },
  {
   "cell_type": "code",
   "execution_count": 6,
   "id": "450abf83",
   "metadata": {},
   "outputs": [
    {
     "name": "stdout",
     "output_type": "stream",
     "text": [
      "Enter a string:ashjk\n",
      "a\n",
      "h\n",
      "k\n"
     ]
    },
    {
     "data": {
      "text/plain": [
       "5"
      ]
     },
     "execution_count": 6,
     "metadata": {},
     "output_type": "execute_result"
    }
   ],
   "source": [
    "str1 = input(\"Enter a string:\")\n",
    "lst = []\n",
    "n = len(str1)\n",
    "i=0\n",
    "while i<=n:\n",
    "    if i==0 or i ==(n//2) or i==(n-1):\n",
    "        print(str1[i])\n",
    "    i += 1\n",
    "n\n",
    "    "
   ]
  },
  {
   "cell_type": "markdown",
   "id": "75b124c6",
   "metadata": {},
   "source": [
    "# Lowercase"
   ]
  },
  {
   "cell_type": "code",
   "execution_count": 11,
   "id": "dde4effd",
   "metadata": {},
   "outputs": [
    {
     "name": "stdout",
     "output_type": "stream",
     "text": [
      "Enter a string:Dhaka\n",
      "D\n",
      "h\n",
      "a\n",
      "k\n",
      "a\n"
     ]
    }
   ],
   "source": [
    "str2 = input(\"Enter a string:\")\n",
    "for chr in str2:\n",
    "    if chr.islower():\n",
    "        print(chr)\n",
    "\n",
    "    "
   ]
  },
  {
   "cell_type": "markdown",
   "id": "340619f5",
   "metadata": {},
   "source": [
    "# 3"
   ]
  },
  {
   "cell_type": "code",
   "execution_count": 19,
   "id": "32940f13",
   "metadata": {},
   "outputs": [
    {
     "name": "stdout",
     "output_type": "stream",
     "text": [
      "Enter a string:P@#yn26at^&i5ve\n",
      "Letters: 8 , Digits: 3 , Symbol: 4\n"
     ]
    }
   ],
   "source": [
    "str3 = input(\"Enter a string:\")\n",
    "digit = 0\n",
    "alpha = 0\n",
    "n = len(str3)\n",
    "for chr in str3:\n",
    "    if chr.isalpha():\n",
    "        alpha += 1\n",
    "    if chr.isdigit():\n",
    "        digit += 1\n",
    "symbol = n - digit - alpha\n",
    "    \n",
    "        \n",
    "print(\"Letters:\",alpha,\",\", \"Digits:\",digit,\",\",\"Symbol:\", symbol)"
   ]
  },
  {
   "cell_type": "markdown",
   "id": "a41d0b10",
   "metadata": {},
   "source": [
    "# Split string"
   ]
  },
  {
   "cell_type": "code",
   "execution_count": 33,
   "id": "8b9c013f",
   "metadata": {},
   "outputs": [
    {
     "name": "stdout",
     "output_type": "stream",
     "text": [
      "Enter a string: ads\n",
      "a-d-s-"
     ]
    }
   ],
   "source": [
    "str4 = input(\"Enter a string: \")\n",
    "i=0\n",
    "n=len(str4)\n",
    "while i<n:\n",
    "    if i<=n-1:\n",
    "        print(str4[i], end='-')\n",
    "    i += 1\n",
    "    \n",
    "               \n",
    "    \n",
    "        \n",
    "    "
   ]
  },
  {
   "cell_type": "code",
   "execution_count": null,
   "id": "f45b9104",
   "metadata": {},
   "outputs": [],
   "source": []
  }
 ],
 "metadata": {
  "kernelspec": {
   "display_name": "Python 3 (ipykernel)",
   "language": "python",
   "name": "python3"
  },
  "language_info": {
   "codemirror_mode": {
    "name": "ipython",
    "version": 3
   },
   "file_extension": ".py",
   "mimetype": "text/x-python",
   "name": "python",
   "nbconvert_exporter": "python",
   "pygments_lexer": "ipython3",
   "version": "3.9.13"
  }
 },
 "nbformat": 4,
 "nbformat_minor": 5
}
