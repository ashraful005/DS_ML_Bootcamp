{
 "cells": [
  {
   "cell_type": "markdown",
   "id": "5ad6faa3",
   "metadata": {},
   "source": [
    "#  1"
   ]
  },
  {
   "cell_type": "code",
   "execution_count": 6,
   "id": "b981e3a6",
   "metadata": {},
   "outputs": [
    {
     "name": "stdout",
     "output_type": "stream",
     "text": [
      "Enter a string:ashjk\n",
      "a\n",
      "h\n",
      "k\n"
     ]
    },
    {
     "data": {
      "text/plain": [
       "5"
      ]
     },
     "execution_count": 6,
     "metadata": {},
     "output_type": "execute_result"
    }
   ],
   "source": [
    "str1 = input(\"Enter a string:\")\n",
    "lst = []\n",
    "n = len(str1)\n",
    "i=0\n",
    "while i<=n:\n",
    "    if i==0 or i ==(n//2) or i==(n-1):\n",
    "        print(str1[i])\n",
    "    i += 1\n",
    "n\n",
    "    "
   ]
  },
  {
   "cell_type": "code",
   "execution_count": null,
   "id": "194aa153",
   "metadata": {},
   "outputs": [],
   "source": []
  },
  {
   "cell_type": "code",
   "execution_count": null,
   "id": "dba3113a",
   "metadata": {},
   "outputs": [],
   "source": []
  }
 ],
 "metadata": {
  "kernelspec": {
   "display_name": "Python 3 (ipykernel)",
   "language": "python",
   "name": "python3"
  },
  "language_info": {
   "codemirror_mode": {
    "name": "ipython",
    "version": 3
   },
   "file_extension": ".py",
   "mimetype": "text/x-python",
   "name": "python",
   "nbconvert_exporter": "python",
   "pygments_lexer": "ipython3",
   "version": "3.9.13"
  }
 },
 "nbformat": 4,
 "nbformat_minor": 5
}
