{
 "cells": [
  {
   "cell_type": "markdown",
   "id": "ce6ab0ee",
   "metadata": {},
   "source": [
    "#  1"
   ]
  },
  {
   "cell_type": "code",
   "execution_count": 6,
   "id": "cc23fc25",
   "metadata": {},
   "outputs": [
    {
     "name": "stdout",
     "output_type": "stream",
     "text": [
      "Enter a string:ashjk\n",
      "a\n",
      "h\n",
      "k\n"
     ]
    },
    {
     "data": {
      "text/plain": [
       "5"
      ]
     },
     "execution_count": 6,
     "metadata": {},
     "output_type": "execute_result"
    }
   ],
   "source": [
    "str1 = input(\"Enter a string:\")\n",
    "lst = []\n",
    "n = len(str1)\n",
    "i=0\n",
    "while i<=n:\n",
    "    if i==0 or i ==(n//2) or i==(n-1):\n",
    "        print(str1[i])\n",
    "    i += 1\n",
    "n\n",
    "    "
   ]
  },
  {
   "cell_type": "markdown",
   "id": "5893148a",
   "metadata": {},
   "source": [
    "# Lowercase"
   ]
  },
  {
   "cell_type": "code",
   "execution_count": 2,
   "id": "f64bd5eb",
   "metadata": {},
   "outputs": [
    {
     "name": "stdout",
     "output_type": "stream",
     "text": [
      "Enter a string:Dhaka\n",
      "h\n",
      "a\n",
      "k\n",
      "a\n",
      "D\n"
     ]
    }
   ],
   "source": [
    "str2 = input(\"Enter a string:\")\n",
    "for chr in str2:\n",
    "    if chr.islower():\n",
    "        print(chr)\n",
    "        \n",
    "for chr in str2:\n",
    "    if chr.isupper():\n",
    "        print(chr)\n",
    "\n",
    "    "
   ]
  },
  {
   "cell_type": "markdown",
   "id": "7d73c91d",
   "metadata": {},
   "source": [
    "# 3"
   ]
  },
  {
   "cell_type": "code",
   "execution_count": 19,
   "id": "7931d472",
   "metadata": {},
   "outputs": [
    {
     "name": "stdout",
     "output_type": "stream",
     "text": [
      "Enter a string:P@#yn26at^&i5ve\n",
      "Letters: 8 , Digits: 3 , Symbol: 4\n"
     ]
    }
   ],
   "source": [
    "str3 = input(\"Enter a string:\")\n",
    "digit = 0\n",
    "alpha = 0\n",
    "n = len(str3)\n",
    "for chr in str3:\n",
    "    if chr.isalpha():\n",
    "        alpha += 1\n",
    "    if chr.isdigit():\n",
    "        digit += 1\n",
    "symbol = n - digit - alpha\n",
    "    \n",
    "        \n",
    "print(\"Letters:\",alpha,\",\", \"Digits:\",digit,\",\",\"Symbol:\", symbol)"
   ]
  },
  {
   "cell_type": "markdown",
   "id": "d315055c",
   "metadata": {},
   "source": [
    "# Split string"
   ]
  },
  {
   "cell_type": "code",
   "execution_count": 33,
   "id": "8aced4ee",
   "metadata": {},
   "outputs": [
    {
     "name": "stdout",
     "output_type": "stream",
     "text": [
      "Enter a string: ads\n",
      "a-d-s-"
     ]
    }
   ],
   "source": [
    "str4 = input(\"Enter a string: \")\n",
    "i=0\n",
    "n=len(str4)\n",
    "while i<n:\n",
    "    if i<=n-1:\n",
    "        print(str4[i], end='-')\n",
    "    i += 1\n",
    "    \n",
    "               \n",
    "    \n",
    "        \n",
    "    "
   ]
  },
  {
   "cell_type": "markdown",
   "id": "bf346aa9",
   "metadata": {},
   "source": [
    "# 5"
   ]
  },
  {
   "cell_type": "code",
   "execution_count": 37,
   "id": "cef888cd",
   "metadata": {},
   "outputs": [
    {
     "name": "stdout",
     "output_type": "stream",
     "text": [
      "Enter a string: abc\n",
      "cba"
     ]
    }
   ],
   "source": [
    "str5 = input(\"Enter a string: \")\n",
    "n = len(str5)\n",
    "i=n-1\n",
    "while i>=0:\n",
    "    print(str5[i], end = '')\n",
    "    i -= 1"
   ]
  },
  {
   "cell_type": "markdown",
   "id": "cf1ba9bd",
   "metadata": {},
   "source": [
    "# "
   ]
  }
 ],
 "metadata": {
  "kernelspec": {
   "display_name": "Python 3 (ipykernel)",
   "language": "python",
   "name": "python3"
  },
  "language_info": {
   "codemirror_mode": {
    "name": "ipython",
    "version": 3
   },
   "file_extension": ".py",
   "mimetype": "text/x-python",
   "name": "python",
   "nbconvert_exporter": "python",
   "pygments_lexer": "ipython3",
   "version": "3.11.2"
  }
 },
 "nbformat": 4,
 "nbformat_minor": 5
}
