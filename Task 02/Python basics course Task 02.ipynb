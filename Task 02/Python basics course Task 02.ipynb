{
 "cells": [
  {
   "cell_type": "markdown",
   "id": "114ff3a7",
   "metadata": {},
   "source": [
    "# 1"
   ]
  },
  {
   "cell_type": "code",
   "execution_count": 6,
   "id": "f539f560",
   "metadata": {},
   "outputs": [
    {
     "name": "stdout",
     "output_type": "stream",
     "text": [
      "3.14\n"
     ]
    }
   ],
   "source": [
    "num = 3.141595\n",
    "formated = \"{:.2f}\".format(num)\n",
    "print(formated)"
   ]
  },
  {
   "cell_type": "markdown",
   "id": "e6e7de2e",
   "metadata": {},
   "source": [
    "\n",
    "# 2"
   ]
  },
  {
   "cell_type": "code",
   "execution_count": 11,
   "id": "327d9bf5",
   "metadata": {},
   "outputs": [
    {
     "name": "stdout",
     "output_type": "stream",
     "text": [
      "1 2.3 4.5 6.6\n"
     ]
    },
    {
     "data": {
      "text/plain": [
       "[1.0, 2.3, 4.5, 6.6]"
      ]
     },
     "execution_count": 11,
     "metadata": {},
     "output_type": "execute_result"
    }
   ],
   "source": [
    "def lin():\n",
    "    return list(map(float, input().strip().split()))\n",
    "\n",
    "a = lin()\n",
    "a"
   ]
  },
  {
   "cell_type": "markdown",
   "id": "3fed1119",
   "metadata": {},
   "source": [
    "# 3"
   ]
  },
  {
   "cell_type": "code",
   "execution_count": null,
   "id": "be609e84",
   "metadata": {},
   "outputs": [],
   "source": []
  }
 ],
 "metadata": {
  "kernelspec": {
   "display_name": "Python 3 (ipykernel)",
   "language": "python",
   "name": "python3"
  },
  "language_info": {
   "codemirror_mode": {
    "name": "ipython",
    "version": 3
   },
   "file_extension": ".py",
   "mimetype": "text/x-python",
   "name": "python",
   "nbconvert_exporter": "python",
   "pygments_lexer": "ipython3",
   "version": "3.9.13"
  }
 },
 "nbformat": 4,
 "nbformat_minor": 5
}
